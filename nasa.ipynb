{
 "cells": [
  {
   "cell_type": "code",
   "execution_count": 57,
   "metadata": {},
   "outputs": [],
   "source": [
    "import pandas as pd\n",
    "import numpy as np\n",
    "import matplotlib.pyplot as plt\n",
    "import seaborn as sns"
   ]
  },
  {
   "cell_type": "code",
   "execution_count": 58,
   "metadata": {},
   "outputs": [],
   "source": [
    "a=pd.read_csv('Nasa_Data (1).csv')"
   ]
  },
  {
   "cell_type": "code",
   "execution_count": 59,
   "metadata": {},
   "outputs": [
    {
     "data": {
      "text/html": [
       "<div>\n",
       "<style scoped>\n",
       "    .dataframe tbody tr th:only-of-type {\n",
       "        vertical-align: middle;\n",
       "    }\n",
       "\n",
       "    .dataframe tbody tr th {\n",
       "        vertical-align: top;\n",
       "    }\n",
       "\n",
       "    .dataframe thead th {\n",
       "        text-align: right;\n",
       "    }\n",
       "</style>\n",
       "<table border=\"1\" class=\"dataframe\">\n",
       "  <thead>\n",
       "    <tr style=\"text-align: right;\">\n",
       "      <th></th>\n",
       "      <th>id</th>\n",
       "      <th>name</th>\n",
       "      <th>prefix</th>\n",
       "      <th>neo</th>\n",
       "      <th>pha</th>\n",
       "      <th>H</th>\n",
       "      <th>diameter</th>\n",
       "      <th>eccentricity</th>\n",
       "      <th>Semi major axis</th>\n",
       "      <th>Perhilion distance</th>\n",
       "      <th>moid</th>\n",
       "      <th>Intersection Distance</th>\n",
       "    </tr>\n",
       "  </thead>\n",
       "  <tbody>\n",
       "    <tr>\n",
       "      <th>0</th>\n",
       "      <td>a0000001</td>\n",
       "      <td>Ceres</td>\n",
       "      <td>NaN</td>\n",
       "      <td>N</td>\n",
       "      <td>N</td>\n",
       "      <td>3.40</td>\n",
       "      <td>939.400</td>\n",
       "      <td>0.076009</td>\n",
       "      <td>2.769165</td>\n",
       "      <td>2.558684</td>\n",
       "      <td>1.59478</td>\n",
       "      <td>620.640533</td>\n",
       "    </tr>\n",
       "    <tr>\n",
       "      <th>1</th>\n",
       "      <td>a0000002</td>\n",
       "      <td>Pallas</td>\n",
       "      <td>NaN</td>\n",
       "      <td>N</td>\n",
       "      <td>N</td>\n",
       "      <td>4.20</td>\n",
       "      <td>545.000</td>\n",
       "      <td>0.229972</td>\n",
       "      <td>2.773841</td>\n",
       "      <td>2.135935</td>\n",
       "      <td>1.23429</td>\n",
       "      <td>480.348639</td>\n",
       "    </tr>\n",
       "    <tr>\n",
       "      <th>2</th>\n",
       "      <td>a0000003</td>\n",
       "      <td>Juno</td>\n",
       "      <td>NaN</td>\n",
       "      <td>N</td>\n",
       "      <td>N</td>\n",
       "      <td>5.33</td>\n",
       "      <td>246.596</td>\n",
       "      <td>0.256936</td>\n",
       "      <td>2.668285</td>\n",
       "      <td>1.982706</td>\n",
       "      <td>1.03429</td>\n",
       "      <td>402.514639</td>\n",
       "    </tr>\n",
       "    <tr>\n",
       "      <th>3</th>\n",
       "      <td>a0000004</td>\n",
       "      <td>Vesta</td>\n",
       "      <td>NaN</td>\n",
       "      <td>N</td>\n",
       "      <td>N</td>\n",
       "      <td>3.00</td>\n",
       "      <td>525.400</td>\n",
       "      <td>0.088721</td>\n",
       "      <td>2.361418</td>\n",
       "      <td>2.151909</td>\n",
       "      <td>1.13948</td>\n",
       "      <td>443.451432</td>\n",
       "    </tr>\n",
       "    <tr>\n",
       "      <th>4</th>\n",
       "      <td>a0000005</td>\n",
       "      <td>Astraea</td>\n",
       "      <td>NaN</td>\n",
       "      <td>N</td>\n",
       "      <td>N</td>\n",
       "      <td>6.90</td>\n",
       "      <td>106.699</td>\n",
       "      <td>0.190913</td>\n",
       "      <td>2.574037</td>\n",
       "      <td>2.082619</td>\n",
       "      <td>1.09575</td>\n",
       "      <td>426.433027</td>\n",
       "    </tr>\n",
       "  </tbody>\n",
       "</table>\n",
       "</div>"
      ],
      "text/plain": [
       "         id     name  prefix neo pha     H  diameter  eccentricity  \\\n",
       "0  a0000001    Ceres     NaN   N   N  3.40   939.400      0.076009   \n",
       "1  a0000002   Pallas     NaN   N   N  4.20   545.000      0.229972   \n",
       "2  a0000003     Juno     NaN   N   N  5.33   246.596      0.256936   \n",
       "3  a0000004    Vesta     NaN   N   N  3.00   525.400      0.088721   \n",
       "4  a0000005  Astraea     NaN   N   N  6.90   106.699      0.190913   \n",
       "\n",
       "   Semi major axis  Perhilion distance     moid  Intersection Distance  \n",
       "0         2.769165            2.558684  1.59478             620.640533  \n",
       "1         2.773841            2.135935  1.23429             480.348639  \n",
       "2         2.668285            1.982706  1.03429             402.514639  \n",
       "3         2.361418            2.151909  1.13948             443.451432  \n",
       "4         2.574037            2.082619  1.09575             426.433027  "
      ]
     },
     "execution_count": 59,
     "metadata": {},
     "output_type": "execute_result"
    }
   ],
   "source": [
    "a.head()"
   ]
  },
  {
   "cell_type": "code",
   "execution_count": 98,
   "metadata": {},
   "outputs": [
    {
     "data": {
      "text/plain": [
       "0    271577\n",
       "1       309\n",
       "Name: pha, dtype: int64"
      ]
     },
     "execution_count": 98,
     "metadata": {},
     "output_type": "execute_result"
    }
   ],
   "source": [
    "a['pha'].value_counts()"
   ]
  },
  {
   "attachments": {},
   "cell_type": "markdown",
   "metadata": {},
   "source": [
    "We have too less asteriods which are potentially hazardous which means we have a skewed distribution"
   ]
  },
  {
   "cell_type": "code",
   "execution_count": 60,
   "metadata": {},
   "outputs": [
    {
     "data": {
      "text/plain": [
       "id                            0\n",
       "name                     250466\n",
       "prefix                   271886\n",
       "neo                           0\n",
       "pha                           0\n",
       "H                             0\n",
       "diameter                 168136\n",
       "eccentricity                  0\n",
       "Semi major axis               0\n",
       "Perhilion distance            0\n",
       "moid                          0\n",
       "Intersection Distance         0\n",
       "dtype: int64"
      ]
     },
     "execution_count": 60,
     "metadata": {},
     "output_type": "execute_result"
    }
   ],
   "source": [
    "a.isna().sum()"
   ]
  },
  {
   "cell_type": "code",
   "execution_count": 61,
   "metadata": {},
   "outputs": [],
   "source": [
    "a.fillna(0,inplace=True)"
   ]
  },
  {
   "cell_type": "code",
   "execution_count": 62,
   "metadata": {},
   "outputs": [
    {
     "data": {
      "text/plain": [
       "id                       0\n",
       "name                     0\n",
       "prefix                   0\n",
       "neo                      0\n",
       "pha                      0\n",
       "H                        0\n",
       "diameter                 0\n",
       "eccentricity             0\n",
       "Semi major axis          0\n",
       "Perhilion distance       0\n",
       "moid                     0\n",
       "Intersection Distance    0\n",
       "dtype: int64"
      ]
     },
     "execution_count": 62,
     "metadata": {},
     "output_type": "execute_result"
    }
   ],
   "source": [
    "a.isna().sum()"
   ]
  },
  {
   "cell_type": "code",
   "execution_count": 63,
   "metadata": {},
   "outputs": [
    {
     "data": {
      "text/plain": [
       "Index(['id', 'name', 'prefix', 'neo', 'pha', 'H', 'diameter', 'eccentricity',\n",
       "       'Semi major axis', 'Perhilion distance', 'moid',\n",
       "       'Intersection Distance'],\n",
       "      dtype='object')"
      ]
     },
     "execution_count": 63,
     "metadata": {},
     "output_type": "execute_result"
    }
   ],
   "source": [
    "a.columns"
   ]
  },
  {
   "attachments": {},
   "cell_type": "markdown",
   "metadata": {},
   "source": [
    "**Column Tuning**"
   ]
  },
  {
   "cell_type": "code",
   "execution_count": 64,
   "metadata": {},
   "outputs": [
    {
     "data": {
      "text/plain": [
       "(271886, 12)"
      ]
     },
     "execution_count": 64,
     "metadata": {},
     "output_type": "execute_result"
    }
   ],
   "source": [
    "a.shape"
   ]
  },
  {
   "cell_type": "code",
   "execution_count": 65,
   "metadata": {},
   "outputs": [
    {
     "data": {
      "text/plain": [
       "<bound method DataFrame.info of               id     name  prefix neo pha      H  diameter  eccentricity  \\\n",
       "0       a0000001    Ceres     0.0   N   N   3.40   939.400      0.076009   \n",
       "1       a0000002   Pallas     0.0   N   N   4.20   545.000      0.229972   \n",
       "2       a0000003     Juno     0.0   N   N   5.33   246.596      0.256936   \n",
       "3       a0000004    Vesta     0.0   N   N   3.00   525.400      0.088721   \n",
       "4       a0000005  Astraea     0.0   N   N   6.90   106.699      0.190913   \n",
       "...          ...      ...     ...  ..  ..    ...       ...           ...   \n",
       "271881  a0271882        0     0.0   N   N  16.10     0.000      0.281944   \n",
       "271882  a0271883        0     0.0   N   N  15.60     0.000      0.144913   \n",
       "271883  a0271884        0     0.0   N   N  16.20     0.000      0.113571   \n",
       "271884  a0271885        0     0.0   N   N  16.20     0.000      0.072835   \n",
       "271885  a0271886        0     0.0   N   N  16.00     0.000      0.129988   \n",
       "\n",
       "        Semi major axis  Perhilion distance     moid  Intersection Distance  \n",
       "0              2.769165            2.558684  1.59478             620.640533  \n",
       "1              2.773841            2.135935  1.23429             480.348639  \n",
       "2              2.668285            1.982706  1.03429             402.514639  \n",
       "3              2.361418            2.151909  1.13948             443.451432  \n",
       "4              2.574037            2.082619  1.09575             426.433027  \n",
       "...                 ...                 ...      ...                    ...  \n",
       "271881         2.647971            1.901391  0.91217             354.989199  \n",
       "271882         2.784125            2.380668  1.38129             537.556629  \n",
       "271883         2.650524            2.349501  1.38548             539.187252  \n",
       "271884         2.797357            2.593613  1.60896             626.158963  \n",
       "271885         2.727462            2.372924  1.38912             540.603830  \n",
       "\n",
       "[271886 rows x 12 columns]>"
      ]
     },
     "execution_count": 65,
     "metadata": {},
     "output_type": "execute_result"
    }
   ],
   "source": [
    "a.info"
   ]
  },
  {
   "cell_type": "code",
   "execution_count": 66,
   "metadata": {},
   "outputs": [
    {
     "data": {
      "text/html": [
       "<div>\n",
       "<style scoped>\n",
       "    .dataframe tbody tr th:only-of-type {\n",
       "        vertical-align: middle;\n",
       "    }\n",
       "\n",
       "    .dataframe tbody tr th {\n",
       "        vertical-align: top;\n",
       "    }\n",
       "\n",
       "    .dataframe thead th {\n",
       "        text-align: right;\n",
       "    }\n",
       "</style>\n",
       "<table border=\"1\" class=\"dataframe\">\n",
       "  <thead>\n",
       "    <tr style=\"text-align: right;\">\n",
       "      <th></th>\n",
       "      <th>prefix</th>\n",
       "      <th>H</th>\n",
       "      <th>diameter</th>\n",
       "      <th>eccentricity</th>\n",
       "      <th>Semi major axis</th>\n",
       "      <th>Perhilion distance</th>\n",
       "      <th>moid</th>\n",
       "      <th>Intersection Distance</th>\n",
       "    </tr>\n",
       "  </thead>\n",
       "  <tbody>\n",
       "    <tr>\n",
       "      <th>count</th>\n",
       "      <td>271886.0</td>\n",
       "      <td>271886.000000</td>\n",
       "      <td>271886.000000</td>\n",
       "      <td>271886.000000</td>\n",
       "      <td>271886.000000</td>\n",
       "      <td>271886.000000</td>\n",
       "      <td>271886.000000</td>\n",
       "      <td>271886.000000</td>\n",
       "    </tr>\n",
       "    <tr>\n",
       "      <th>mean</th>\n",
       "      <td>0.0</td>\n",
       "      <td>15.515884</td>\n",
       "      <td>2.357070</td>\n",
       "      <td>0.140781</td>\n",
       "      <td>2.707043</td>\n",
       "      <td>2.321765</td>\n",
       "      <td>1.333065</td>\n",
       "      <td>518.788975</td>\n",
       "    </tr>\n",
       "    <tr>\n",
       "      <th>std</th>\n",
       "      <td>0.0</td>\n",
       "      <td>1.234092</td>\n",
       "      <td>7.228607</td>\n",
       "      <td>0.070353</td>\n",
       "      <td>2.059147</td>\n",
       "      <td>1.011994</td>\n",
       "      <td>1.011237</td>\n",
       "      <td>393.543262</td>\n",
       "    </tr>\n",
       "    <tr>\n",
       "      <th>min</th>\n",
       "      <td>0.0</td>\n",
       "      <td>-1.100000</td>\n",
       "      <td>0.000000</td>\n",
       "      <td>0.000979</td>\n",
       "      <td>0.617500</td>\n",
       "      <td>0.092025</td>\n",
       "      <td>0.000027</td>\n",
       "      <td>0.010335</td>\n",
       "    </tr>\n",
       "    <tr>\n",
       "      <th>25%</th>\n",
       "      <td>0.0</td>\n",
       "      <td>14.900000</td>\n",
       "      <td>0.000000</td>\n",
       "      <td>0.089445</td>\n",
       "      <td>2.376196</td>\n",
       "      <td>1.999436</td>\n",
       "      <td>1.005850</td>\n",
       "      <td>391.446644</td>\n",
       "    </tr>\n",
       "    <tr>\n",
       "      <th>50%</th>\n",
       "      <td>0.0</td>\n",
       "      <td>15.600000</td>\n",
       "      <td>0.000000</td>\n",
       "      <td>0.136011</td>\n",
       "      <td>2.614373</td>\n",
       "      <td>2.218543</td>\n",
       "      <td>1.230415</td>\n",
       "      <td>478.840606</td>\n",
       "    </tr>\n",
       "    <tr>\n",
       "      <th>75%</th>\n",
       "      <td>0.0</td>\n",
       "      <td>16.300000</td>\n",
       "      <td>3.531000</td>\n",
       "      <td>0.184246</td>\n",
       "      <td>2.923494</td>\n",
       "      <td>2.571002</td>\n",
       "      <td>1.581767</td>\n",
       "      <td>615.576458</td>\n",
       "    </tr>\n",
       "    <tr>\n",
       "      <th>max</th>\n",
       "      <td>0.0</td>\n",
       "      <td>24.200000</td>\n",
       "      <td>939.400000</td>\n",
       "      <td>0.963287</td>\n",
       "      <td>564.699310</td>\n",
       "      <td>76.256711</td>\n",
       "      <td>75.285600</td>\n",
       "      <td>29298.896952</td>\n",
       "    </tr>\n",
       "  </tbody>\n",
       "</table>\n",
       "</div>"
      ],
      "text/plain": [
       "         prefix              H       diameter   eccentricity  Semi major axis  \\\n",
       "count  271886.0  271886.000000  271886.000000  271886.000000    271886.000000   \n",
       "mean        0.0      15.515884       2.357070       0.140781         2.707043   \n",
       "std         0.0       1.234092       7.228607       0.070353         2.059147   \n",
       "min         0.0      -1.100000       0.000000       0.000979         0.617500   \n",
       "25%         0.0      14.900000       0.000000       0.089445         2.376196   \n",
       "50%         0.0      15.600000       0.000000       0.136011         2.614373   \n",
       "75%         0.0      16.300000       3.531000       0.184246         2.923494   \n",
       "max         0.0      24.200000     939.400000       0.963287       564.699310   \n",
       "\n",
       "       Perhilion distance           moid  Intersection Distance  \n",
       "count       271886.000000  271886.000000          271886.000000  \n",
       "mean             2.321765       1.333065             518.788975  \n",
       "std              1.011994       1.011237             393.543262  \n",
       "min              0.092025       0.000027               0.010335  \n",
       "25%              1.999436       1.005850             391.446644  \n",
       "50%              2.218543       1.230415             478.840606  \n",
       "75%              2.571002       1.581767             615.576458  \n",
       "max             76.256711      75.285600           29298.896952  "
      ]
     },
     "execution_count": 66,
     "metadata": {},
     "output_type": "execute_result"
    }
   ],
   "source": [
    "a.describe()"
   ]
  },
  {
   "cell_type": "code",
   "execution_count": null,
   "metadata": {},
   "outputs": [],
   "source": []
  },
  {
   "cell_type": "code",
   "execution_count": 67,
   "metadata": {},
   "outputs": [
    {
     "data": {
      "text/html": [
       "<div>\n",
       "<style scoped>\n",
       "    .dataframe tbody tr th:only-of-type {\n",
       "        vertical-align: middle;\n",
       "    }\n",
       "\n",
       "    .dataframe tbody tr th {\n",
       "        vertical-align: top;\n",
       "    }\n",
       "\n",
       "    .dataframe thead th {\n",
       "        text-align: right;\n",
       "    }\n",
       "</style>\n",
       "<table border=\"1\" class=\"dataframe\">\n",
       "  <thead>\n",
       "    <tr style=\"text-align: right;\">\n",
       "      <th></th>\n",
       "      <th>id</th>\n",
       "      <th>name</th>\n",
       "      <th>prefix</th>\n",
       "      <th>neo</th>\n",
       "      <th>pha</th>\n",
       "      <th>H</th>\n",
       "      <th>diameter</th>\n",
       "      <th>eccentricity</th>\n",
       "      <th>Semi major axis</th>\n",
       "      <th>Perhilion distance</th>\n",
       "      <th>moid</th>\n",
       "      <th>Intersection Distance</th>\n",
       "    </tr>\n",
       "  </thead>\n",
       "  <tbody>\n",
       "    <tr>\n",
       "      <th>0</th>\n",
       "      <td>a0000001</td>\n",
       "      <td>Ceres</td>\n",
       "      <td>0.0</td>\n",
       "      <td>N</td>\n",
       "      <td>N</td>\n",
       "      <td>3.40</td>\n",
       "      <td>939.400</td>\n",
       "      <td>0.076009</td>\n",
       "      <td>2.769165</td>\n",
       "      <td>2.558684</td>\n",
       "      <td>1.59478</td>\n",
       "      <td>620.640533</td>\n",
       "    </tr>\n",
       "    <tr>\n",
       "      <th>1</th>\n",
       "      <td>a0000002</td>\n",
       "      <td>Pallas</td>\n",
       "      <td>0.0</td>\n",
       "      <td>N</td>\n",
       "      <td>N</td>\n",
       "      <td>4.20</td>\n",
       "      <td>545.000</td>\n",
       "      <td>0.229972</td>\n",
       "      <td>2.773841</td>\n",
       "      <td>2.135935</td>\n",
       "      <td>1.23429</td>\n",
       "      <td>480.348639</td>\n",
       "    </tr>\n",
       "    <tr>\n",
       "      <th>2</th>\n",
       "      <td>a0000003</td>\n",
       "      <td>Juno</td>\n",
       "      <td>0.0</td>\n",
       "      <td>N</td>\n",
       "      <td>N</td>\n",
       "      <td>5.33</td>\n",
       "      <td>246.596</td>\n",
       "      <td>0.256936</td>\n",
       "      <td>2.668285</td>\n",
       "      <td>1.982706</td>\n",
       "      <td>1.03429</td>\n",
       "      <td>402.514639</td>\n",
       "    </tr>\n",
       "    <tr>\n",
       "      <th>3</th>\n",
       "      <td>a0000004</td>\n",
       "      <td>Vesta</td>\n",
       "      <td>0.0</td>\n",
       "      <td>N</td>\n",
       "      <td>N</td>\n",
       "      <td>3.00</td>\n",
       "      <td>525.400</td>\n",
       "      <td>0.088721</td>\n",
       "      <td>2.361418</td>\n",
       "      <td>2.151909</td>\n",
       "      <td>1.13948</td>\n",
       "      <td>443.451432</td>\n",
       "    </tr>\n",
       "    <tr>\n",
       "      <th>4</th>\n",
       "      <td>a0000005</td>\n",
       "      <td>Astraea</td>\n",
       "      <td>0.0</td>\n",
       "      <td>N</td>\n",
       "      <td>N</td>\n",
       "      <td>6.90</td>\n",
       "      <td>106.699</td>\n",
       "      <td>0.190913</td>\n",
       "      <td>2.574037</td>\n",
       "      <td>2.082619</td>\n",
       "      <td>1.09575</td>\n",
       "      <td>426.433027</td>\n",
       "    </tr>\n",
       "    <tr>\n",
       "      <th>...</th>\n",
       "      <td>...</td>\n",
       "      <td>...</td>\n",
       "      <td>...</td>\n",
       "      <td>...</td>\n",
       "      <td>...</td>\n",
       "      <td>...</td>\n",
       "      <td>...</td>\n",
       "      <td>...</td>\n",
       "      <td>...</td>\n",
       "      <td>...</td>\n",
       "      <td>...</td>\n",
       "      <td>...</td>\n",
       "    </tr>\n",
       "    <tr>\n",
       "      <th>271881</th>\n",
       "      <td>a0271882</td>\n",
       "      <td>0</td>\n",
       "      <td>0.0</td>\n",
       "      <td>N</td>\n",
       "      <td>N</td>\n",
       "      <td>16.10</td>\n",
       "      <td>0.000</td>\n",
       "      <td>0.281944</td>\n",
       "      <td>2.647971</td>\n",
       "      <td>1.901391</td>\n",
       "      <td>0.91217</td>\n",
       "      <td>354.989199</td>\n",
       "    </tr>\n",
       "    <tr>\n",
       "      <th>271882</th>\n",
       "      <td>a0271883</td>\n",
       "      <td>0</td>\n",
       "      <td>0.0</td>\n",
       "      <td>N</td>\n",
       "      <td>N</td>\n",
       "      <td>15.60</td>\n",
       "      <td>0.000</td>\n",
       "      <td>0.144913</td>\n",
       "      <td>2.784125</td>\n",
       "      <td>2.380668</td>\n",
       "      <td>1.38129</td>\n",
       "      <td>537.556629</td>\n",
       "    </tr>\n",
       "    <tr>\n",
       "      <th>271883</th>\n",
       "      <td>a0271884</td>\n",
       "      <td>0</td>\n",
       "      <td>0.0</td>\n",
       "      <td>N</td>\n",
       "      <td>N</td>\n",
       "      <td>16.20</td>\n",
       "      <td>0.000</td>\n",
       "      <td>0.113571</td>\n",
       "      <td>2.650524</td>\n",
       "      <td>2.349501</td>\n",
       "      <td>1.38548</td>\n",
       "      <td>539.187252</td>\n",
       "    </tr>\n",
       "    <tr>\n",
       "      <th>271884</th>\n",
       "      <td>a0271885</td>\n",
       "      <td>0</td>\n",
       "      <td>0.0</td>\n",
       "      <td>N</td>\n",
       "      <td>N</td>\n",
       "      <td>16.20</td>\n",
       "      <td>0.000</td>\n",
       "      <td>0.072835</td>\n",
       "      <td>2.797357</td>\n",
       "      <td>2.593613</td>\n",
       "      <td>1.60896</td>\n",
       "      <td>626.158963</td>\n",
       "    </tr>\n",
       "    <tr>\n",
       "      <th>271885</th>\n",
       "      <td>a0271886</td>\n",
       "      <td>0</td>\n",
       "      <td>0.0</td>\n",
       "      <td>N</td>\n",
       "      <td>N</td>\n",
       "      <td>16.00</td>\n",
       "      <td>0.000</td>\n",
       "      <td>0.129988</td>\n",
       "      <td>2.727462</td>\n",
       "      <td>2.372924</td>\n",
       "      <td>1.38912</td>\n",
       "      <td>540.603830</td>\n",
       "    </tr>\n",
       "  </tbody>\n",
       "</table>\n",
       "<p>271886 rows × 12 columns</p>\n",
       "</div>"
      ],
      "text/plain": [
       "              id     name  prefix neo pha      H  diameter  eccentricity  \\\n",
       "0       a0000001    Ceres     0.0   N   N   3.40   939.400      0.076009   \n",
       "1       a0000002   Pallas     0.0   N   N   4.20   545.000      0.229972   \n",
       "2       a0000003     Juno     0.0   N   N   5.33   246.596      0.256936   \n",
       "3       a0000004    Vesta     0.0   N   N   3.00   525.400      0.088721   \n",
       "4       a0000005  Astraea     0.0   N   N   6.90   106.699      0.190913   \n",
       "...          ...      ...     ...  ..  ..    ...       ...           ...   \n",
       "271881  a0271882        0     0.0   N   N  16.10     0.000      0.281944   \n",
       "271882  a0271883        0     0.0   N   N  15.60     0.000      0.144913   \n",
       "271883  a0271884        0     0.0   N   N  16.20     0.000      0.113571   \n",
       "271884  a0271885        0     0.0   N   N  16.20     0.000      0.072835   \n",
       "271885  a0271886        0     0.0   N   N  16.00     0.000      0.129988   \n",
       "\n",
       "        Semi major axis  Perhilion distance     moid  Intersection Distance  \n",
       "0              2.769165            2.558684  1.59478             620.640533  \n",
       "1              2.773841            2.135935  1.23429             480.348639  \n",
       "2              2.668285            1.982706  1.03429             402.514639  \n",
       "3              2.361418            2.151909  1.13948             443.451432  \n",
       "4              2.574037            2.082619  1.09575             426.433027  \n",
       "...                 ...                 ...      ...                    ...  \n",
       "271881         2.647971            1.901391  0.91217             354.989199  \n",
       "271882         2.784125            2.380668  1.38129             537.556629  \n",
       "271883         2.650524            2.349501  1.38548             539.187252  \n",
       "271884         2.797357            2.593613  1.60896             626.158963  \n",
       "271885         2.727462            2.372924  1.38912             540.603830  \n",
       "\n",
       "[271886 rows x 12 columns]"
      ]
     },
     "execution_count": 67,
     "metadata": {},
     "output_type": "execute_result"
    }
   ],
   "source": [
    "a.drop_duplicates()"
   ]
  },
  {
   "attachments": {},
   "cell_type": "markdown",
   "metadata": {},
   "source": [
    "# Visualisation"
   ]
  },
  {
   "cell_type": "code",
   "execution_count": 68,
   "metadata": {},
   "outputs": [
    {
     "data": {
      "text/html": [
       "<div>\n",
       "<style scoped>\n",
       "    .dataframe tbody tr th:only-of-type {\n",
       "        vertical-align: middle;\n",
       "    }\n",
       "\n",
       "    .dataframe tbody tr th {\n",
       "        vertical-align: top;\n",
       "    }\n",
       "\n",
       "    .dataframe thead th {\n",
       "        text-align: right;\n",
       "    }\n",
       "</style>\n",
       "<table border=\"1\" class=\"dataframe\">\n",
       "  <thead>\n",
       "    <tr style=\"text-align: right;\">\n",
       "      <th></th>\n",
       "      <th>prefix</th>\n",
       "      <th>H</th>\n",
       "      <th>diameter</th>\n",
       "      <th>eccentricity</th>\n",
       "      <th>Semi major axis</th>\n",
       "      <th>Perhilion distance</th>\n",
       "      <th>moid</th>\n",
       "      <th>Intersection Distance</th>\n",
       "    </tr>\n",
       "  </thead>\n",
       "  <tbody>\n",
       "    <tr>\n",
       "      <th>prefix</th>\n",
       "      <td>NaN</td>\n",
       "      <td>NaN</td>\n",
       "      <td>NaN</td>\n",
       "      <td>NaN</td>\n",
       "      <td>NaN</td>\n",
       "      <td>NaN</td>\n",
       "      <td>NaN</td>\n",
       "      <td>NaN</td>\n",
       "    </tr>\n",
       "    <tr>\n",
       "      <th>H</th>\n",
       "      <td>NaN</td>\n",
       "      <td>1.000000</td>\n",
       "      <td>-0.546987</td>\n",
       "      <td>0.098388</td>\n",
       "      <td>-0.244685</td>\n",
       "      <td>-0.382672</td>\n",
       "      <td>-0.384942</td>\n",
       "      <td>-0.384942</td>\n",
       "    </tr>\n",
       "    <tr>\n",
       "      <th>diameter</th>\n",
       "      <td>NaN</td>\n",
       "      <td>-0.546987</td>\n",
       "      <td>1.000000</td>\n",
       "      <td>-0.017824</td>\n",
       "      <td>0.068285</td>\n",
       "      <td>0.121494</td>\n",
       "      <td>0.123198</td>\n",
       "      <td>0.123198</td>\n",
       "    </tr>\n",
       "    <tr>\n",
       "      <th>eccentricity</th>\n",
       "      <td>NaN</td>\n",
       "      <td>0.098388</td>\n",
       "      <td>-0.017824</td>\n",
       "      <td>1.000000</td>\n",
       "      <td>0.028835</td>\n",
       "      <td>-0.208962</td>\n",
       "      <td>-0.200169</td>\n",
       "      <td>-0.200169</td>\n",
       "    </tr>\n",
       "    <tr>\n",
       "      <th>Semi major axis</th>\n",
       "      <td>NaN</td>\n",
       "      <td>-0.244685</td>\n",
       "      <td>0.068285</td>\n",
       "      <td>0.028835</td>\n",
       "      <td>1.000000</td>\n",
       "      <td>0.709583</td>\n",
       "      <td>0.710145</td>\n",
       "      <td>0.710145</td>\n",
       "    </tr>\n",
       "    <tr>\n",
       "      <th>Perhilion distance</th>\n",
       "      <td>NaN</td>\n",
       "      <td>-0.382672</td>\n",
       "      <td>0.121494</td>\n",
       "      <td>-0.208962</td>\n",
       "      <td>0.709583</td>\n",
       "      <td>1.000000</td>\n",
       "      <td>0.999466</td>\n",
       "      <td>0.999466</td>\n",
       "    </tr>\n",
       "    <tr>\n",
       "      <th>moid</th>\n",
       "      <td>NaN</td>\n",
       "      <td>-0.384942</td>\n",
       "      <td>0.123198</td>\n",
       "      <td>-0.200169</td>\n",
       "      <td>0.710145</td>\n",
       "      <td>0.999466</td>\n",
       "      <td>1.000000</td>\n",
       "      <td>1.000000</td>\n",
       "    </tr>\n",
       "    <tr>\n",
       "      <th>Intersection Distance</th>\n",
       "      <td>NaN</td>\n",
       "      <td>-0.384942</td>\n",
       "      <td>0.123198</td>\n",
       "      <td>-0.200169</td>\n",
       "      <td>0.710145</td>\n",
       "      <td>0.999466</td>\n",
       "      <td>1.000000</td>\n",
       "      <td>1.000000</td>\n",
       "    </tr>\n",
       "  </tbody>\n",
       "</table>\n",
       "</div>"
      ],
      "text/plain": [
       "                       prefix         H  diameter  eccentricity  \\\n",
       "prefix                    NaN       NaN       NaN           NaN   \n",
       "H                         NaN  1.000000 -0.546987      0.098388   \n",
       "diameter                  NaN -0.546987  1.000000     -0.017824   \n",
       "eccentricity              NaN  0.098388 -0.017824      1.000000   \n",
       "Semi major axis           NaN -0.244685  0.068285      0.028835   \n",
       "Perhilion distance        NaN -0.382672  0.121494     -0.208962   \n",
       "moid                      NaN -0.384942  0.123198     -0.200169   \n",
       "Intersection Distance     NaN -0.384942  0.123198     -0.200169   \n",
       "\n",
       "                       Semi major axis  Perhilion distance      moid  \\\n",
       "prefix                             NaN                 NaN       NaN   \n",
       "H                            -0.244685           -0.382672 -0.384942   \n",
       "diameter                      0.068285            0.121494  0.123198   \n",
       "eccentricity                  0.028835           -0.208962 -0.200169   \n",
       "Semi major axis               1.000000            0.709583  0.710145   \n",
       "Perhilion distance            0.709583            1.000000  0.999466   \n",
       "moid                          0.710145            0.999466  1.000000   \n",
       "Intersection Distance         0.710145            0.999466  1.000000   \n",
       "\n",
       "                       Intersection Distance  \n",
       "prefix                                   NaN  \n",
       "H                                  -0.384942  \n",
       "diameter                            0.123198  \n",
       "eccentricity                       -0.200169  \n",
       "Semi major axis                     0.710145  \n",
       "Perhilion distance                  0.999466  \n",
       "moid                                1.000000  \n",
       "Intersection Distance               1.000000  "
      ]
     },
     "execution_count": 68,
     "metadata": {},
     "output_type": "execute_result"
    }
   ],
   "source": [
    "a.corr()"
   ]
  },
  {
   "cell_type": "code",
   "execution_count": 69,
   "metadata": {},
   "outputs": [
    {
     "data": {
      "text/plain": [
       "<AxesSubplot:>"
      ]
     },
     "execution_count": 69,
     "metadata": {},
     "output_type": "execute_result"
    },
    {
     "data": {
      "image/png": "[encoded data removed]",
      "text/plain": [
       "<Figure size 432x288 with 2 Axes>"
      ]
     },
     "metadata": {
      "needs_background": "light"
     },
     "output_type": "display_data"
    }
   ],
   "source": [
    "sns.heatmap(a.corr(), annot=True,annot_kws={\"size\":7})"
   ]
  },
  {
   "cell_type": "code",
   "execution_count": 128,
   "metadata": {},
   "outputs": [],
   "source": [
    "# Encode labels in column 'species'.\n",
    "a['pha']= label_encoder.fit_transform(a['pha'])\n",
    "  \n",
    "a['pha']\n",
    "\n",
    "a_input = a.drop(['pha'], axis=1)\n"
   ]
  },
  {
   "cell_type": "code",
   "execution_count": 127,
   "metadata": {},
   "outputs": [
    {
     "data": {
      "text/plain": [
       "261244    0\n",
       "12778     0\n",
       "136676    0\n",
       "18541     0\n",
       "200619    0\n",
       "         ..\n",
       "228463    0\n",
       "214877    0\n",
       "77136     0\n",
       "13536     0\n",
       "92027     0\n",
       "Name: pha, Length: 54378, dtype: int64"
      ]
     },
     "execution_count": 127,
     "metadata": {},
     "output_type": "execute_result"
    }
   ],
   "source": [
    "a_output=a['pha'].copy()\n",
    "a_output"
   ]
  },
  {
   "cell_type": "code",
   "execution_count": 129,
   "metadata": {},
   "outputs": [],
   "source": [
    "from sklearn.preprocessing import StandardScaler\n",
    "scaler=StandardScaler()"
   ]
  },
  {
   "cell_type": "code",
   "execution_count": 130,
   "metadata": {},
   "outputs": [],
   "source": [
    "from sklearn.linear_model import LogisticRegression\n",
    "from sklearn.neighbors import KNeighborsClassifier\n",
    "from sklearn.svm import SVC\n",
    "from sklearn.tree import DecisionTreeClassifier"
   ]
  },
  {
   "cell_type": "code",
   "execution_count": 131,
   "metadata": {},
   "outputs": [],
   "source": [
    "from sklearn.model_selection import train_test_split\n",
    "\n",
    "X_train, X_test, y_train, y_test = train_test_split(a_input, a_output,train_size = 0.8, test_size = 0.2) "
   ]
  },
  {
   "cell_type": "code",
   "execution_count": 132,
   "metadata": {},
   "outputs": [
    {
     "data": {
      "text/html": [
       "<div>\n",
       "<style scoped>\n",
       "    .dataframe tbody tr th:only-of-type {\n",
       "        vertical-align: middle;\n",
       "    }\n",
       "\n",
       "    .dataframe tbody tr th {\n",
       "        vertical-align: top;\n",
       "    }\n",
       "\n",
       "    .dataframe thead th {\n",
       "        text-align: right;\n",
       "    }\n",
       "</style>\n",
       "<table border=\"1\" class=\"dataframe\">\n",
       "  <thead>\n",
       "    <tr style=\"text-align: right;\">\n",
       "      <th></th>\n",
       "    </tr>\n",
       "  </thead>\n",
       "  <tbody>\n",
       "    <tr>\n",
       "      <th>206092</th>\n",
       "    </tr>\n",
       "    <tr>\n",
       "      <th>69816</th>\n",
       "    </tr>\n",
       "    <tr>\n",
       "      <th>189076</th>\n",
       "    </tr>\n",
       "    <tr>\n",
       "      <th>234055</th>\n",
       "    </tr>\n",
       "    <tr>\n",
       "      <th>167079</th>\n",
       "    </tr>\n",
       "  </tbody>\n",
       "</table>\n",
       "</div>"
      ],
      "text/plain": [
       "Empty DataFrame\n",
       "Columns: []\n",
       "Index: [206092, 69816, 189076, 234055, 167079]"
      ]
     },
     "execution_count": 132,
     "metadata": {},
     "output_type": "execute_result"
    }
   ],
   "source": [
    "X_train.head()\n"
   ]
  },
  {
   "cell_type": "code",
   "execution_count": 133,
   "metadata": {},
   "outputs": [
    {
     "data": {
      "text/plain": [
       "139228    0\n",
       "20558     0\n",
       "184259    0\n",
       "129729    0\n",
       "33822     0\n",
       "         ..\n",
       "95002     0\n",
       "29946     0\n",
       "109029    0\n",
       "175282    0\n",
       "125769    0\n",
       "Name: pha, Length: 10876, dtype: int64"
      ]
     },
     "execution_count": 133,
     "metadata": {},
     "output_type": "execute_result"
    }
   ],
   "source": [
    "y_test"
   ]
  },
  {
   "cell_type": "code",
   "execution_count": 134,
   "metadata": {},
   "outputs": [
    {
     "data": {
      "text/plain": [
       "206092    0\n",
       "69816     0\n",
       "189076    0\n",
       "234055    0\n",
       "167079    0\n",
       "         ..\n",
       "55898     0\n",
       "8240      0\n",
       "80409     0\n",
       "60630     0\n",
       "187327    0\n",
       "Name: pha, Length: 43502, dtype: int64"
      ]
     },
     "execution_count": 134,
     "metadata": {},
     "output_type": "execute_result"
    }
   ],
   "source": [
    "y_train"
   ]
  },
  {
   "cell_type": "code",
   "execution_count": 138,
   "metadata": {},
   "outputs": [],
   "source": [
    "from sklearn.model_selection import train_test_split as tts\n",
    "X_train, X_test, y_train, y_test = tts(X, y,test_size = 0.2 , random_state = 0)\n"
   ]
  },
  {
   "cell_type": "code",
   "execution_count": null,
   "metadata": {},
   "outputs": [],
   "source": []
  }
 ],
 "metadata": {
  "kernelspec": {
   "display_name": "Python 3",
   "language": "python",
   "name": "python3"
  },
  "language_info": {
   "codemirror_mode": {
    "name": "ipython",
    "version": 3
   },
   "file_extension": ".py",
   "mimetype": "text/x-python",
   "name": "python",
   "nbconvert_exporter": "python",
   "pygments_lexer": "ipython3",
   "version": "3.10.5"
  },
  "orig_nbformat": 4,
  "vscode": {
   "interpreter": {
    "hash": "afb734500600fd355917ca529030176ea0ca205570884b88f2f6f7d791fd3fbe"
   }
  }
 },
 "nbformat": 4,
 "nbformat_minor": 2
}
